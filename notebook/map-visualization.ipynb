{
 "cells": [
  {
   "cell_type": "code",
   "execution_count": null,
   "id": "4d1aafd2-2864-4c0e-ac95-59b786693cfd",
   "metadata": {},
   "outputs": [],
   "source": [
    "import folium\n",
    "import requests\n",
    "import uuid"
   ]
  },
  {
   "cell_type": "code",
   "execution_count": null,
   "id": "e42b52b3-8f11-44b6-9fab-8b78538030b9",
   "metadata": {},
   "outputs": [],
   "source": [
    "correleationId = str(uuid.uuid4())\n",
    "\n",
    "print(\"search in bbox\\n\")\n",
    "contents = requests.get(\n",
    "    \"https://localhost:8443/api/v1/pois/bbox?bbox.ne.lon=8.441913&bbox.ne.lat=49.884059&bbox.sw.lat=50.643898&bbox.sw.lon=9.584620\", \n",
    "    verify=False,\n",
    "    headers={\"X-Correlation-Id\": correleationId}\n",
    ")"
   ]
  },
  {
   "cell_type": "code",
   "execution_count": null,
   "id": "76171833-2b75-4d9c-bcb0-488b863c0368",
   "metadata": {},
   "outputs": [],
   "source": [
    "num_items = len(contents.json()[\"items\"])\n",
    "print(f\"found {num_items} locations for bbox search\\n\")"
   ]
  },
  {
   "cell_type": "code",
   "execution_count": null,
   "id": "8ff9e4fb-57f7-4746-9da1-255ed38f8094",
   "metadata": {},
   "outputs": [],
   "source": [
    "\n",
    "# lon = 8.7814 lat = 49.64636 somewhere around Mannheim\n",
    "m = folium.Map(location=[49.64636, 8.7814])\n",
    "for poi in contents.json()[\"items\"]:\n",
    "    folium.Marker(\n",
    "        location=[poi[\"coordinate\"][\"lat\"], poi[\"coordinate\"][\"lon\"] ],\n",
    "        popup=poi[\"id\"], # pop-up label for the marker\n",
    "        icon=folium.Icon()\n",
    "    ).add_to(m)\n",
    "# Display the map\n",
    "m"
   ]
  },
  {
   "cell_type": "code",
   "execution_count": null,
   "id": "668efd37-513e-4e65-9551-d8d9f09fe9f1",
   "metadata": {},
   "outputs": [],
   "source": [
    "print(\"search in radius proximity\\n\")\n",
    "contents = requests.get(\n",
    "    \"https://localhost:8443/api/v1/pois/proximity?center.lon=8.689773&center.lat=50.129068&radius_meters=100000.0\", \n",
    "    verify=False,\n",
    "    headers={\"X-Correlation-Id\": correleationId}\n",
    ")"
   ]
  },
  {
   "cell_type": "code",
   "execution_count": null,
   "id": "3fdf23d3-9104-442f-aa62-cb9f3f74eeac",
   "metadata": {},
   "outputs": [],
   "source": [
    "num_items = len(contents.json()[\"items\"])\n",
    "print(f\"found {num_items} locations for radius search\\n\")"
   ]
  },
  {
   "cell_type": "code",
   "execution_count": null,
   "id": "7313ba7d-d1cb-4475-a3b3-b1ae182d2203",
   "metadata": {},
   "outputs": [],
   "source": [
    "# lon = 8.7814 lat = 49.64636 somewhere around Mannheim\n",
    "m2 = folium.Map(location=[49.64636, 8.7814])\n",
    "for poi in contents.json()[\"items\"]:\n",
    "    folium.Marker(\n",
    "        location=[poi[\"coordinate\"][\"lat\"], poi[\"coordinate\"][\"lon\"] ],\n",
    "        popup=poi[\"id\"], # pop-up label for the marker\n",
    "        icon=folium.Icon()\n",
    "    ).add_to(m2)\n",
    "folium.Marker(\n",
    " location=[ 50.129068, 8.689773],\n",
    " popup=\"center point\", # pop-up label for the marker\n",
    " icon=folium.Icon(color=\"red\")\n",
    ").add_to(m2)\n",
    "# Display the map\n",
    "m2"
   ]
  },
  {
   "cell_type": "code",
   "execution_count": null,
   "id": "b1251db0-180d-494c-819b-7df4f6489001",
   "metadata": {},
   "outputs": [],
   "source": [
    "print(\"search along route \\n\")\n",
    "# 49.484710, 8.440301\n",
    "# 49.64636, 8.7814\n",
    "# 49.682461, 8.806760\n",
    "# 49.879016, 8.645673\n",
    "data= [\n",
    "    { \"lat\": 49.484710, \"lon\": 8.440301 },\n",
    "    { \"lat\": 49.64636, \"lon\": 8.7814 },\n",
    "    { \"lat\": 49.682461, \"lon\": 8.806760 },\n",
    "    { \"lat\": 49.879016, \"lon\": 8.645673 },\n",
    "]\n",
    "contents = requests.post(\n",
    "    \"https://localhost:8443/api/v1/pois/route\", \n",
    "    verify=False,\n",
    "    headers={\"X-Correlation-Id\": correleationId},\n",
    "    json=data\n",
    ")"
   ]
  },
  {
   "cell_type": "code",
   "execution_count": null,
   "id": "d073c318-cb76-48ac-9c8b-0c87e0c17bdc",
   "metadata": {},
   "outputs": [],
   "source": [
    "num_items = len(contents.json()[\"items\"])\n",
    "print(f\"found {num_items} locations for route search\\n\")"
   ]
  },
  {
   "cell_type": "code",
   "execution_count": null,
   "id": "fdcde1cc-253a-4968-8550-39d8fe7bbc79",
   "metadata": {},
   "outputs": [],
   "source": [
    "# lon = 8.7814 lat = 49.64636 somewhere around Mannheim\n",
    "m3 = folium.Map(location=[49.64636, 8.7814])\n",
    "for poi in contents.json()[\"items\"]:\n",
    "    folium.Marker(\n",
    "        location=[poi[\"coordinate\"][\"lat\"], poi[\"coordinate\"][\"lon\"] ],\n",
    "        popup=poi[\"id\"], # pop-up label for the marker\n",
    "        icon=folium.Icon()\n",
    "    ).add_to(m3)\n",
    "for d in data:\n",
    "    folium.Marker(\n",
    "        location=[d[\"lat\"], d[\"lon\"] ],\n",
    "        popup=\"route location\", # pop-up label for the marker\n",
    "        icon=folium.Icon(color=\"red\")\n",
    "    ).add_to(m3)\n",
    "# Display the map\n",
    "m3"
   ]
  },
  {
   "cell_type": "code",
   "execution_count": null,
   "id": "ca15e220-5c36-42ab-9c6e-0b8315271413",
   "metadata": {},
   "outputs": [],
   "source": []
  }
 ],
 "metadata": {
  "kernelspec": {
   "display_name": "Python 3 (ipykernel)",
   "language": "python",
   "name": "python3"
  },
  "language_info": {
   "codemirror_mode": {
    "name": "ipython",
    "version": 3
   },
   "file_extension": ".py",
   "mimetype": "text/x-python",
   "name": "python",
   "nbconvert_exporter": "python",
   "pygments_lexer": "ipython3",
   "version": "3.13.0"
  }
 },
 "nbformat": 4,
 "nbformat_minor": 5
}
